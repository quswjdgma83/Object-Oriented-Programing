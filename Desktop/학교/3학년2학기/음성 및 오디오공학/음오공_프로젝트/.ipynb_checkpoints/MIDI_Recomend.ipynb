{
 "cells": [
  {
   "cell_type": "code",
   "execution_count": 1,
   "metadata": {},
   "outputs": [],
   "source": [
    "from scipy.io.wavfile import read\n",
    "from scipy.fftpack import fft\n",
    "from scipy.signal import get_window\n",
    "import numpy as np\n",
    "import matplotlib.pyplot as plt\n",
    "import math\n",
    "import os"
   ]
  },
  {
   "cell_type": "markdown",
   "metadata": {},
   "source": [
    "# "
   ]
  },
  {
   "cell_type": "markdown",
   "metadata": {},
   "source": [
    "# 녹음 파일 불러오기"
   ]
  },
  {
   "cell_type": "code",
   "execution_count": 8,
   "metadata": {
    "colab": {
     "base_uri": "https://localhost:8080/"
    },
    "id": "XGWzlUhnzwr1",
    "outputId": "ee079f1d-7db1-4f45-9692-b5beed312374"
   },
   "outputs": [
    {
     "name": "stdout",
     "output_type": "stream",
     "text": [
      "rate : 48000\n",
      "len : 121211\n",
      "data : [0 0 0 ... 0 0 0]\n"
     ]
    }
   ],
   "source": [
    "rate, data = read(\"C:/Users/201810879/Desktop/높낮1.wav\")\n",
    "data = data[:,0]\n",
    "os.system(\"start C:/Users/201810879/Desktop/높낮1.wav\")\n",
    "print(\"rate :\",rate)\n",
    "print(\"len :\",len(data))\n",
    "print(\"data :\", data)"
   ]
  },
  {
   "cell_type": "code",
   "execution_count": 9,
   "metadata": {
    "colab": {
     "base_uri": "https://localhost:8080/",
     "height": 345
    },
    "id": "svPsHIF4GD2J",
    "outputId": "1dacfeef-203f-4d5b-8158-eeb778afa326"
   },
   "outputs": [
    {
     "data": {
      "image/png": "[encoded data removed]",
      "text/plain": [
       "<Figure size 1008x360 with 1 Axes>"
      ]
     },
     "metadata": {
      "needs_background": "light"
     },
     "output_type": "display_data"
    }
   ],
   "source": [
    "# fft 그래프\n",
    "\n",
    "high_f = np.fft.fft(data)\n",
    "magnitude = np.abs(high_f)\n",
    "frequency = np.linspace(0, rate, len(magnitude))\n",
    "\n",
    "left_frequency = frequency[:int(len(frequency)/2)]\n",
    "left_magnitude = magnitude[:int(len(magnitude)/2)]\n",
    "fig = plt.figure(figsize = (14,5))\n",
    "plt.plot(left_frequency, left_magnitude)\n",
    "plt.xlabel(\"Frequency\")\n",
    "plt.ylabel(\"Magnitude\")\n",
    "plt.show()"
   ]
  },
  {
   "cell_type": "markdown",
   "metadata": {},
   "source": [
    "# Frame 별 MIDI NOTE 추출"
   ]
  },
  {
   "cell_type": "code",
   "execution_count": 10,
   "metadata": {
    "id": "YnBw6heLhK6r"
   },
   "outputs": [],
   "source": [
    "# Frame 별 magnitude 최대값을 가지는 frequency 추출\n",
    "\n",
    "midi_freq = []\n",
    "Frame_size = 512\n",
    "half_FS = int(Frame_size/2)\n",
    "\n",
    "w = get_window('hamming', Frame_size)\n",
    "win_sig = np.zeros(shape=(Frame_size,), dtype=np.float16)\n",
    "\n",
    "for i in range(half_FS*10, len(data)-half_FS*10, half_FS):\n",
    "    for j in range(Frame_size):\n",
    "        if i+j < len(data):\n",
    "            win_sig[j] = data[i+j] * w[j]\n",
    "        else:\n",
    "            win_sig[j] = 0\n",
    "\n",
    "    low_f = np.fft.fft(win_sig)\n",
    "    freqs = np.fft.fftfreq(len(low_f))\n",
    "    idx = np.argmax(np.abs(low_f))\n",
    "    freq = freqs[idx]\n",
    "    fh = abs(freq * rate)\n",
    "    midi_freq.append(fh)"
   ]
  },
  {
   "cell_type": "code",
   "execution_count": 11,
   "metadata": {},
   "outputs": [],
   "source": [
    "# noise 제거 전 프레임별 freq 출력\n",
    "\n",
    "#print(midi_freq)"
   ]
  },
  {
   "cell_type": "code",
   "execution_count": 12,
   "metadata": {
    "id": "bk_KuFJhm660"
   },
   "outputs": [],
   "source": [
    "# noise_freq 제거\n",
    "\n",
    "while 0 in midi_freq:\n",
    "    midi_freq.remove(0)\n",
    "\n",
    "for d in range(3):\n",
    "    length = len(midi_freq)\n",
    "    index = []\n",
    "    k = 0\n",
    "\n",
    "    for i in range(1,length-1):\n",
    "        if abs((midi_freq[i-1] + midi_freq[i+1])/2 - midi_freq[i]) > 80:\n",
    "            index.append(i)\n",
    "    for i in index:\n",
    "        del midi_freq[index[k]]\n",
    "        index = np.subtract(index, 1)\n",
    "        k = k + 1\n",
    "\n",
    "    length = len(midi_freq)\n",
    "    index = []\n",
    "    k = 0\n",
    "\n",
    "    for i in range(1,length-1):\n",
    "        if abs(midi_freq[i-1] - midi_freq[i]) > 70:\n",
    "            if abs(midi_freq[i] - midi_freq[i+1]) > 70:\n",
    "                index.append(i)\n",
    "    for i in index:\n",
    "        del midi_freq[index[k]]\n",
    "        index = np.subtract(index, 1)\n",
    "        k = k + 1\n",
    "\n",
    "    length = len(midi_freq)\n",
    "    index = []\n",
    "    k = 0\n",
    "\n",
    "    for i in range(1,length):\n",
    "        if abs(midi_freq[i-1] - midi_freq[i]) > 450:\n",
    "            index.append(i)\n",
    "    for i in index:\n",
    "        del midi_freq[index[k]]\n",
    "        index = np.subtract(index, 1)\n",
    "        k = k + 1\n",
    "        \n",
    "midi_freq = midi_freq[1:len(midi_freq) - 1]\n",
    "\n",
    "denoise = []\n",
    "length = len(midi_freq)\n",
    "\n",
    "for i in range(1,length-1):\n",
    "    avg = midi_freq[i-1] * 0.25 + midi_freq[i] * 0.5 + midi_freq[i+1] * 0.25\n",
    "    denoise.append(avg)"
   ]
  },
  {
   "cell_type": "code",
   "execution_count": 13,
   "metadata": {},
   "outputs": [],
   "source": [
    "# 최고음 frequency, 최저음 frequency 출력\n",
    "\n",
    "min_denoise = min(denoise)\n",
    "max_denoise = max(denoise)\n",
    "\n",
    "#print(denoise)\n",
    "#print(min_denoise)\n",
    "#print(max_denoise)"
   ]
  },
  {
   "cell_type": "code",
   "execution_count": 14,
   "metadata": {
    "colab": {
     "base_uri": "https://localhost:8080/"
    },
    "id": "Y4klsgbloYCT",
    "outputId": "444e8b5f-09ff-4926-b337-5d969ed2e49d"
   },
   "outputs": [
    {
     "name": "stdout",
     "output_type": "stream",
     "text": [
      "최고음 : 73\n",
      "최저음 : 42\n"
     ]
    }
   ],
   "source": [
    "# MIDI NOTE NUMBER 출력\n",
    "\n",
    "midi_high = 69+round(12*(math.log(max_denoise/440, 2)))\n",
    "midi_low = 69+round(12*(math.log(min_denoise/440, 2)))\n",
    "\n",
    "print(\"최고음 :\", midi_high)\n",
    "print(\"최저음 :\", midi_low)"
   ]
  },
  {
   "cell_type": "code",
   "execution_count": 15,
   "metadata": {},
   "outputs": [],
   "source": [
    "import pymysql\n",
    "import random\n",
    "import pandas as pd"
   ]
  },
  {
   "cell_type": "code",
   "execution_count": 16,
   "metadata": {},
   "outputs": [],
   "source": [
    "# 노래 장르 선택\n",
    "\n",
    "gen = \"발라드\"\n",
    "#gen = \"록발라드\"\n",
    "#gen = \"댄스\"\n",
    "#gen = \"트로트\""
   ]
  },
  {
   "cell_type": "markdown",
   "metadata": {},
   "source": [
    "# DB 연결"
   ]
  },
  {
   "cell_type": "code",
   "execution_count": 17,
   "metadata": {
    "colab": {
     "base_uri": "https://localhost:8080/",
     "height": 455
    },
    "id": "rZel_ENCHJNR",
    "outputId": "dac45594-f95f-4c7a-d043-7d31975906fd"
   },
   "outputs": [],
   "source": [
    "# 데이터베이스 연결\n",
    "\n",
    "conn = pymysql.connect(host='localhost',user='root',password='bj095811@@',db='testdb',port=3307)\n",
    "#cursor = conn.cursor(pymysql.cursors.DictCursor)\n",
    "cursor = conn.cursor()"
   ]
  },
  {
   "cell_type": "code",
   "execution_count": 18,
   "metadata": {},
   "outputs": [],
   "source": [
    "# 적정 음원 추출\n",
    "\n",
    "low_sql = \"select * from genre where MIDI<= %s and GENRE = %s\"\n",
    "low_num = cursor.execute(low_sql, (midi_high, gen))\n",
    "low_result = cursor.fetchall()"
   ]
  },
  {
   "cell_type": "markdown",
   "metadata": {},
   "source": [
    "# TXT 출력"
   ]
  },
  {
   "cell_type": "code",
   "execution_count": 19,
   "metadata": {},
   "outputs": [],
   "source": [
    "# 랜덤 넘버 획득\n",
    "\n",
    "ran = random.randrange(0,low_num)\n",
    "\n",
    "# MIDI NOTE\n",
    "\n",
    "col = ['C','C#','D','D#','E','F','F#','G','G#','A','A#','B']\n",
    "ind = [-1,0,1,2,3,4,5,6,7,8,9]\n",
    "con = [[0,1,2,3,4,5,6,7,8,9,10,11],\n",
    "       [12,13,14,15,16,17,18,19,20,21,22,23],\n",
    "       [24,25,26,27,28,29,30,31,32,33,34,35],\n",
    "       [36,37,38,39,40,41,42,43,44,45,46,47],\n",
    "       [48,49,50,51,52,53,54,55,56,57,58,59],\n",
    "       [60,61,62,63,64,65,66,67,68,69,70,71],\n",
    "       [72,73,74,75,76,77,78,79,80,81,82,83],\n",
    "       [84,85,86,87,88,89,90,91,92,93,94,95],\n",
    "       [96,97,98,99,100,101,102,103,104,105,106,107],\n",
    "       [108,109,110,111,112,113,114,115,116,117,118,119],\n",
    "       [120,121,122,123,124,125,126,127,'','','','']]\n",
    "df = pd.DataFrame(con, columns=col, index=ind)"
   ]
  },
  {
   "cell_type": "code",
   "execution_count": 24,
   "metadata": {
    "scrolled": true
   },
   "outputs": [],
   "source": [
    "# txt 파일 쓰기\n",
    "\n",
    "f = open(\"C:/Users/201810879/Desktop/음오공_프로젝트/result.txt\", 'a')\n",
    "\n",
    "text1 = \"<MIDI NOTE(Columns : 음넘버, Row : 옥타브넘버)>\\n\\n\"\n",
    "text2 = \"당신의 음역대는 %d ~ %d 입니다.\\n선택한 노래 장르는 '%s' 입니다.\\n추천 음악은 '%s' 의 '%s' 입니다.\\n\" %(midi_low, midi_high, gen, low_result[ran][0], low_result[ran][1])\n",
    "text3 = \"최고음 : %s\\n\" % low_result[ran][2]\n",
    "text4 = \"Youtube : %s\\n\\n\" %low_result[ran][5]\n",
    "text5 = \"<그 외 소화가능한 노래 목록>\\n\\n\"\n",
    "\n",
    "f.write(text1)\n",
    "df.to_csv('/Users/201810879/Desktop/음오공_프로젝트/result.txt', sep = '\\t')\n",
    "f.write(text2)\n",
    "f.write(text3)\n",
    "f.write(text4)\n",
    "f.write(text5)\n",
    "\n",
    "sql = \"select * from songs where MIDI<= %s\"\n",
    "num = cursor.execute(sql, midi_high)\n",
    "result = cursor.fetchall()\n",
    "\n",
    "ran_arr = random.sample(range(num), 20)\n",
    "\n",
    "for i in range(20):\n",
    "    key = ran_arr[i]\n",
    "    if (result[key][0] != low_result[ran][0]) and (result[key][1] != low_result[ran][1]):\n",
    "        text6 = \"'%s' 의 '%s'\\n\" %(result[key][0], result[key][1])\n",
    "        f.write(text6)\n",
    "        \n",
    "f.write('\\n')\n",
    "        \n",
    "high_sql = \"select SINGER, NAME, MIDI from genre where MIDI > %s and GENRE = %s\"\n",
    "high_num = cursor.execute(high_sql, (midi_high, gen))\n",
    "high_result = cursor.fetchall()\n",
    "        \n",
    "text7 = \"<감당하기 힘든 곡>\\n\\n\"\n",
    "f.write(text7)\n",
    "\n",
    "if high_result == ():\n",
    "    f.write('DB에 존재하는 모든 노래를 소화 가능합니다!')\n",
    "\n",
    "for i in range(high_num):\n",
    "    text8 = \"'%s' 의 '%s'\\n\" %(high_result[i][0], high_result[i][1])\n",
    "    text9 = \"%d키를 낮추시면 충분히 소화 가능합니다.\\n\\n\" %(high_result[i][2] - midi_high)\n",
    "    f.write(text8)\n",
    "    f.write(text9)\n",
    "    \n",
    "f.close()"
   ]
  },
  {
   "cell_type": "code",
   "execution_count": 25,
   "metadata": {},
   "outputs": [],
   "source": [
    "from navertts import NaverTTS\n",
    "from pydub import AudioSegment\n",
    "from pydub.playback import play"
   ]
  },
  {
   "cell_type": "markdown",
   "metadata": {},
   "source": [
    "# TTS"
   ]
  },
  {
   "cell_type": "code",
   "execution_count": 26,
   "metadata": {},
   "outputs": [],
   "source": [
    "# TTS\n",
    "\n",
    "ai_ans = \"추천 음악은 %s 의 %s 입니다.\" %(low_result[ran][0], low_result[ran][1])\n",
    "tts = NaverTTS(ai_ans, lang = \"ko\", gender = \"f\")\n",
    "tts.save(\"temp.mp3\")\n",
    "snd = AudioSegment.from_mp3(\"temp.mp3\")\n",
    "play(snd)"
   ]
  },
  {
   "cell_type": "code",
   "execution_count": null,
   "metadata": {},
   "outputs": [],
   "source": []
  }
 ],
 "metadata": {
  "colab": {
   "provenance": []
  },
  "kernelspec": {
   "display_name": "Python 3 (ipykernel)",
   "language": "python",
   "name": "python3"
  },
  "language_info": {
   "codemirror_mode": {
    "name": "ipython",
    "version": 3
   },
   "file_extension": ".py",
   "mimetype": "text/x-python",
   "name": "python",
   "nbconvert_exporter": "python",
   "pygments_lexer": "ipython3",
   "version": "3.9.12"
  }
 },
 "nbformat": 4,
 "nbformat_minor": 1
}
